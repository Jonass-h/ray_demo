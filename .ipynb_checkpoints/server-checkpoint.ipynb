{
 "cells": [
  {
   "cell_type": "code",
   "execution_count": 1,
   "metadata": {},
   "outputs": [],
   "source": [
    "import base64\n",
    "import zmq\n",
    "import ray\n",
    "import matplotlib.pyplot as plt\n",
    "import matplotlib.image as mpimg\n",
    "import numpy as np\n",
    "from scipy.signal import convolve2d"
   ]
  },
  {
   "cell_type": "code",
   "execution_count": 2,
   "metadata": {},
   "outputs": [
    {
     "data": {
      "text/plain": [
       "<contextlib._GeneratorContextManager at 0x7f3d79b4d130>"
      ]
     },
     "execution_count": 2,
     "metadata": {},
     "output_type": "execute_result"
    }
   ],
   "source": [
    "context = zmq.Context()\n",
    "socket = context.socket(zmq.REP)\n",
    "socket.bind(\"tcp://*:5555\")"
   ]
  },
  {
   "cell_type": "code",
   "execution_count": 3,
   "metadata": {},
   "outputs": [
    {
     "name": "stderr",
     "output_type": "stream",
     "text": [
      "2021-06-05 18:37:28,517\tINFO worker.py:640 -- Connecting to existing Ray cluster at address: 192.168.1.34:6379\n"
     ]
    }
   ],
   "source": [
    "ray.init(address=\"auto\")\n",
    "\n",
    "@ray.remote\n",
    "def rgb_convolve2d(image):\n",
    "    kernel=np.array([[0,1,0], [1,-4,1], [0,1,0]])\n",
    "    \n",
    "    red = convolve2d(image[:,:,0], kernel)\n",
    "    green = convolve2d(image[:,:,1], kernel)\n",
    "    blue = convolve2d(image[:,:,2], kernel)\n",
    "    \n",
    "    return np.stack([red, green, blue], axis=2)"
   ]
  },
  {
   "cell_type": "code",
   "execution_count": null,
   "metadata": {},
   "outputs": [
    {
     "name": "stdout",
     "output_type": "stream",
     "text": [
      "Received request from client\n",
      "ObjectRef(e4fde5ab3b50f85bffffffffffffffffffffffff0700000001000000)\n"
     ]
    },
    {
     "name": "stderr",
     "output_type": "stream",
     "text": [
      "Clipping input data to the valid range for imshow with RGB data ([0..1] for floats or [0..255] for integers).\n"
     ]
    },
    {
     "name": "stdout",
     "output_type": "stream",
     "text": [
      "Sending back ...\n"
     ]
    }
   ],
   "source": [
    "while True:\n",
    "    #  Wait for next request from client\n",
    "    message = socket.recv()\n",
    "    print(\"Received request from client\")\n",
    "    ba = bytearray(base64.b64decode(message))\n",
    "    f = open(\"./dataset/server_received.png\", 'wb')\n",
    "    f.write(ba)\n",
    "    f.close()\n",
    "\n",
    "    #  add the client to the dictionnary\n",
    "    # client worker\n",
    "    img = mpimg.imread(\"./dataset/server_received.png\")\n",
    "    object_id = rgb_convolve2d.remote(img)\n",
    "    print(object_id)\n",
    "    data=ray.get(object_id)\n",
    "    plt.imshow(data)\n",
    "    print(\"got data\")\n",
    "\n",
    "    #  Send reply back to client\n",
    "    print(\"Sending back ...\")\n",
    "    bytes = bytearray(data[5])\n",
    "    strng = base64.b64encode(bytes)\n",
    "    socket.send(strng)\n",
    "    \n",
    "ray.shutdown()"
   ]
  },
  {
   "cell_type": "code",
   "execution_count": null,
   "metadata": {},
   "outputs": [],
   "source": []
  }
 ],
 "metadata": {
  "kernelspec": {
   "display_name": "Python 3",
   "language": "python",
   "name": "python3"
  },
  "language_info": {
   "codemirror_mode": {
    "name": "ipython",
    "version": 3
   },
   "file_extension": ".py",
   "mimetype": "text/x-python",
   "name": "python",
   "nbconvert_exporter": "python",
   "pygments_lexer": "ipython3",
   "version": "3.8.5"
  }
 },
 "nbformat": 4,
 "nbformat_minor": 4
}

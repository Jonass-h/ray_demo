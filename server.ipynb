{
 "cells": [
  {
   "cell_type": "code",
   "execution_count": 1,
   "metadata": {},
   "outputs": [],
   "source": [
    "import base64\n",
    "import zmq\n",
    "import ray\n",
    "import imageio \n",
    "import matplotlib.pyplot as plt\n",
    "import matplotlib.image as mpimg\n",
    "import numpy as np\n",
    "from scipy.signal import convolve2d\n",
    "import cv2"
   ]
  },
  {
   "cell_type": "code",
   "execution_count": 2,
   "metadata": {},
   "outputs": [
    {
     "data": {
      "text/plain": [
       "<contextlib._GeneratorContextManager at 0x7f968bf84d00>"
      ]
     },
     "execution_count": 2,
     "metadata": {},
     "output_type": "execute_result"
    }
   ],
   "source": [
    "context = zmq.Context()\n",
    "socket = context.socket(zmq.REP)\n",
    "socket.bind(\"tcp://*:5555\")"
   ]
  },
  {
   "cell_type": "code",
   "execution_count": 3,
   "metadata": {},
   "outputs": [
    {
     "name": "stderr",
     "output_type": "stream",
     "text": [
      "2021-06-09 21:56:59,234\tINFO worker.py:640 -- Connecting to existing Ray cluster at address: 192.168.43.232:6379\n"
     ]
    },
    {
     "data": {
      "text/plain": [
       "{'node_ip_address': '192.168.43.232',\n",
       " 'raylet_ip_address': '192.168.43.232',\n",
       " 'redis_address': '192.168.43.232:6379',\n",
       " 'object_store_address': '/tmp/ray/session_2021-06-09_21-56-35_198961_44310/sockets/plasma_store',\n",
       " 'raylet_socket_name': '/tmp/ray/session_2021-06-09_21-56-35_198961_44310/sockets/raylet',\n",
       " 'webui_url': '127.0.0.1:8265',\n",
       " 'session_dir': '/tmp/ray/session_2021-06-09_21-56-35_198961_44310',\n",
       " 'metrics_export_port': 39603,\n",
       " 'node_id': '10390ec832492ce21536ca86c64086ffd60d12dfa639898d57712071'}"
      ]
     },
     "execution_count": 3,
     "metadata": {},
     "output_type": "execute_result"
    }
   ],
   "source": [
    "ray.init(address=\"auto\")"
   ]
  },
  {
   "cell_type": "code",
   "execution_count": 4,
   "metadata": {},
   "outputs": [],
   "source": [
    "kernel = np.array([[-1, -1, -1], [-1, 8, -1], [-1, -1, -1]])"
   ]
  },
  {
   "cell_type": "code",
   "execution_count": 5,
   "metadata": {},
   "outputs": [],
   "source": [
    "def processImage(image): \n",
    "    image = cv2.imread(image) \n",
    "    image = cv2.cvtColor(src=image, code=cv2.COLOR_BGR2GRAY) \n",
    "    return image"
   ]
  },
  {
   "cell_type": "code",
   "execution_count": 6,
   "metadata": {},
   "outputs": [],
   "source": [
    "@ray.remote\n",
    "def convolve2D(image, kernel, padding=0, strides=1):\n",
    "    # Cross Correlation\n",
    "    kernel = np.flipud(np.fliplr(kernel))\n",
    "\n",
    "    # Gather Shapes of Kernel + Image + Padding\n",
    "    xKernShape = kernel.shape[0]\n",
    "    yKernShape = kernel.shape[1]\n",
    "    xImgShape = image.shape[0]\n",
    "    yImgShape = image.shape[1]\n",
    "\n",
    "    # Shape of Output Convolution\n",
    "    xOutput = int(((xImgShape - xKernShape + 2 * padding) / strides) + 1)\n",
    "    yOutput = int(((yImgShape - yKernShape + 2 * padding) / strides) + 1)\n",
    "    output = np.zeros((xOutput, yOutput))\n",
    "\n",
    "    # Apply Equal Padding to All Sides\n",
    "    if padding != 0:\n",
    "        imagePadded = np.zeros((image.shape[0] + padding*2, image.shape[1] + padding*2))\n",
    "        imagePadded[int(padding):int(-1 * padding), int(padding):int(-1 * padding)] = image\n",
    "        print(imagePadded)\n",
    "    else:\n",
    "        imagePadded = image\n",
    "\n",
    "    # Iterate through image\n",
    "    for y in range(image.shape[1]):\n",
    "        # Exit Convolution\n",
    "        if y > image.shape[1] - yKernShape:\n",
    "            break\n",
    "        # Only Convolve if y has gone down by the specified Strides\n",
    "        if y % strides == 0:\n",
    "            for x in range(image.shape[0]):\n",
    "                # Go to next row once kernel is out of bounds\n",
    "                if x > image.shape[0] - xKernShape:\n",
    "                    break\n",
    "                try:\n",
    "                    # Only Convolve if x has moved by the specified Strides\n",
    "                    if x % strides == 0:\n",
    "                        output[x, y] = (kernel * imagePadded[x: x + xKernShape, y: y + yKernShape]).sum()\n",
    "                except:\n",
    "                    break\n",
    "\n",
    "    return output"
   ]
  },
  {
   "cell_type": "code",
   "execution_count": null,
   "metadata": {},
   "outputs": [
    {
     "name": "stdout",
     "output_type": "stream",
     "text": [
      "Received request\n",
      "processing ... \n",
      "sending back results\n",
      "Received request\n",
      "processing ... \n",
      "sending back results\n",
      "Received request\n",
      "processing ... \n",
      "sending back results\n",
      "Received request\n",
      "processing ... \n",
      "sending back results\n",
      "Received request\n",
      "processing ... \n",
      "sending back results\n",
      "Received request\n",
      "processing ... \n",
      "sending back results\n"
     ]
    },
    {
     "name": "stderr",
     "output_type": "stream",
     "text": [
      "2021-06-09 22:09:23,114\tWARNING worker.py:1115 -- The node with node id: e8e2c6753844f7b1192e447a36b230cc758b627cde60ffe689e37b3d and ip: 192.168.43.116 has been marked dead because the detector has missed too many heartbeats from it. This can happen when a raylet crashes unexpectedly or has lagging heartbeats.\n",
      "2021-06-09 23:22:35,436\tWARNING worker.py:1115 -- The node with node id: 10390ec832492ce21536ca86c64086ffd60d12dfa639898d57712071 and ip: 192.168.43.232 has been marked dead because the detector has missed too many heartbeats from it. This can happen when a raylet crashes unexpectedly or has lagging heartbeats.\n",
      "\u001b[2m\u001b[33m(raylet)\u001b[0m [2021-06-09 23:23:21,989 C 44365 44365] node_manager.cc:164: This node has beem marked as dead.\n",
      "\u001b[2m\u001b[33m(raylet)\u001b[0m [2021-06-09 23:23:21,989 E 44365 44365] logging.cc:435: *** Aborted at 1623277401 (unix time) try \"date -d @1623277401\" if you are using GNU date ***\n",
      "\u001b[2m\u001b[33m(raylet)\u001b[0m [2021-06-09 23:23:21,990 E 44365 44365] logging.cc:435: PC: @                0x0 (unknown)\n",
      "\u001b[2m\u001b[33m(raylet)\u001b[0m [2021-06-09 23:23:21,994 E 44365 44365] logging.cc:435: *** SIGABRT (@0x3e80000ad4d) received by PID 44365 (TID 0x7f3520a96800) from PID 44365; stack trace: ***\n",
      "\u001b[2m\u001b[33m(raylet)\u001b[0m [2021-06-09 23:23:21,996 E 44365 44365] logging.cc:435:     @     0x561e6ab1caaf google::(anonymous namespace)::FailureSignalHandler()\n",
      "\u001b[2m\u001b[33m(raylet)\u001b[0m [2021-06-09 23:23:21,997 E 44365 44365] logging.cc:435:     @     0x7f3520ff83c0 (unknown)\n",
      "\u001b[2m\u001b[33m(raylet)\u001b[0m [2021-06-09 23:23:21,997 E 44365 44365] logging.cc:435:     @     0x7f3520ae118b gsignal\n",
      "\u001b[2m\u001b[33m(raylet)\u001b[0m [2021-06-09 23:23:21,998 E 44365 44365] logging.cc:435:     @     0x7f3520ac0859 abort\n",
      "\u001b[2m\u001b[33m(raylet)\u001b[0m [2021-06-09 23:23:22,002 E 44365 44365] logging.cc:435:     @     0x561e6ab08de5 ray::SpdLogMessage::Flush()2021-06-09 23:23:28,147\tWARNING worker.py:1115 -- The autoscaler failed with the following error:\n",
      "Traceback (most recent call last):\n",
      "  File \"/home/younes/.local/lib/python3.8/site-packages/ray/_private/monitor.py\", line 284, in run\n",
      "    self._run()\n",
      "  File \"/home/younes/.local/lib/python3.8/site-packages/ray/_private/monitor.py\", line 175, in _run\n",
      "    self.update_load_metrics()\n",
      "  File \"/home/younes/.local/lib/python3.8/site-packages/ray/_private/monitor.py\", line 139, in update_load_metrics\n",
      "    response = self.gcs_node_resources_stub.GetAllResourceUsage(\n",
      "  File \"/home/younes/.local/lib/python3.8/site-packages/grpc/_channel.py\", line 946, in __call__\n",
      "    return _end_unary_response_blocking(state, call, False, None)\n",
      "  File \"/home/younes/.local/lib/python3.8/site-packages/grpc/_channel.py\", line 849, in _end_unary_response_blocking\n",
      "    raise _InactiveRpcError(state)\n",
      "grpc._channel._InactiveRpcError: <_InactiveRpcError of RPC that terminated with:\n",
      "\tstatus = StatusCode.DEADLINE_EXCEEDED\n",
      "\tdetails = \"Deadline Exceeded\"\n",
      "\tdebug_error_string = \"{\"created\":\"@1623277301.253398761\",\"description\":\"Error received from peer ipv4:192.168.43.232:42385\",\"file\":\"src/core/lib/surface/call.cc\",\"file_line\":1066,\"grpc_message\":\"Deadline Exceeded\",\"grpc_status\":4}\"\n",
      ">\n",
      "\n",
      "\n",
      "\u001b[2m\u001b[33m(raylet)\u001b[0m [2021-06-09 23:23:22,003 E 44365 44365] logging.cc:435:     @     0x561e6ab08e1d ray::RayLog::~RayLog()\n",
      "\u001b[2m\u001b[33m(raylet)\u001b[0m [2021-06-09 23:23:22,004 E 44365 44365] logging.cc:435:     @     0x561e6a74a480 _ZNSt17_Function_handlerIFvN3ray6StatusEEZNS0_6raylet15HeartbeatSender9HeartbeatEvEUlS1_E_E9_M_invokeERKSt9_Any_dataOS1_\n",
      "\u001b[2m\u001b[33m(raylet)\u001b[0m [2021-06-09 23:23:22,004 E 44365 44365] logging.cc:435:     @     0x561e6a838f94 _ZNSt17_Function_handlerIFvRKN3ray6StatusERKNS0_3rpc20ReportHeartbeatReplyEEZNS0_3gcs28ServiceBasedNodeInfoAccessor20AsyncReportHeartbeatERKSt10shared_ptrINS4_18HeartbeatTableDataEERKSt8functionIFvS1_EEEUlS3_S7_E_E9_M_invokeERKSt9_Any_dataS3_S7_\n",
      "\u001b[2m\u001b[33m(raylet)\u001b[0m [2021-06-09 23:23:22,006 E 44365 44365] logging.cc:435:     @     0x561e6a839091 _ZNSt17_Function_handlerIFvRKN3ray6StatusERKNS0_3rpc20ReportHeartbeatReplyEEZNS4_12GcsRpcClient15ReportHeartbeatERKNS4_22ReportHeartbeatRequestERKSt8functionIS8_EEUlS3_S7_E_E9_M_invokeERKSt9_Any_dataS3_S7_\n",
      "\u001b[2m\u001b[33m(raylet)\u001b[0m [2021-06-09 23:23:22,008 E 44365 44365] logging.cc:435:     @     0x561e6a83eeaf ray::rpc::ClientCallImpl<>::OnReplyReceived()\n",
      "\u001b[2m\u001b[33m(raylet)\u001b[0m [2021-06-09 23:23:22,010 E 44365 44365] logging.cc:435:     @     0x561e6a72009b _ZNSt17_Function_handlerIFvvEZN3ray3rpc17ClientCallManager29PollEventsFromCompletionQueueEiEUlvE_E9_M_invokeERKSt9_Any_data\n",
      "\u001b[2m\u001b[33m(raylet)\u001b[0m [2021-06-09 23:23:22,014 E 44365 44365] logging.cc:435:     @     0x561e6aabe8c8 boost::asio::detail::completion_handler<>::do_complete()\n",
      "\u001b[2m\u001b[33m(raylet)\u001b[0m [2021-06-09 23:23:22,019 E 44365 44365] logging.cc:435:     @     0x561e6ae9a3c1 boost::asio::detail::scheduler::do_run_one()\n",
      "\u001b[2m\u001b[33m(raylet)\u001b[0m [2021-06-09 23:23:22,024 E 44365 44365] logging.cc:435:     @     0x561e6ae9a4f1 boost::asio::detail::scheduler::run()\n",
      "\u001b[2m\u001b[33m(raylet)\u001b[0m [2021-06-09 23:23:22,025 E 44365 44365] logging.cc:435:     @     0x561e6ae9c6f0 boost::asio::io_context::run()\n",
      "\u001b[2m\u001b[33m(raylet)\u001b[0m [2021-06-09 23:23:22,026 E 44365 44365] logging.cc:435:     @     0x561e6a6889b0 main\n",
      "\u001b[2m\u001b[33m(raylet)\u001b[0m [2021-06-09 23:23:22,027 E 44365 44365] logging.cc:435:     @     0x7f3520ac20b3 __libc_start_main\n",
      "\u001b[2m\u001b[33m(raylet)\u001b[0m [2021-06-09 23:23:22,030 E 44365 44365] logging.cc:435:     @     0x561e6a69b405 (unknown)\n"
     ]
    }
   ],
   "source": [
    "while True:\n",
    "    #  Wait for next request from client\n",
    "    message = socket.recv()\n",
    "    print(\"Received request\")\n",
    "    ba = bytearray(base64.b64decode(message))\n",
    "    f = open(\"./temp/server_received.png\", 'wb')\n",
    "    f.write(ba)\n",
    "    f.close()\n",
    "\n",
    "    print(\"processing ... \")\n",
    "    image = processImage(\"./temp/server_received.png\")\n",
    "    object_id = convolve2D.remote(image,kernel)\n",
    "    #print(object_id)\n",
    "    data=ray.get(object_id)\n",
    "    cv2.imwrite('./temp/temp.png', data)\n",
    "    \n",
    "    \n",
    "    print(\"sending back results\")\n",
    "    f = open('./temp/temp.png','rb')\n",
    "    bytes = bytearray(f.read())\n",
    "    strng = base64.b64encode(bytes)\n",
    "    socket.send(strng)\n",
    "    f.close()\n",
    "    \n",
    "ray.shutdown()"
   ]
  },
  {
   "cell_type": "code",
   "execution_count": null,
   "metadata": {},
   "outputs": [],
   "source": []
  }
 ],
 "metadata": {
  "kernelspec": {
   "display_name": "Python 3",
   "language": "python",
   "name": "python3"
  },
  "language_info": {
   "codemirror_mode": {
    "name": "ipython",
    "version": 3
   },
   "file_extension": ".py",
   "mimetype": "text/x-python",
   "name": "python",
   "nbconvert_exporter": "python",
   "pygments_lexer": "ipython3",
   "version": "3.8.5"
  }
 },
 "nbformat": 4,
 "nbformat_minor": 4
}
